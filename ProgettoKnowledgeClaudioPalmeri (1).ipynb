{
  "nbformat": 4,
  "nbformat_minor": 0,
  "metadata": {
    "colab": {
      "provenance": []
    },
    "kernelspec": {
      "name": "python3",
      "display_name": "Python 3"
    },
    "language_info": {
      "name": "python"
    }
  },
  "cells": [
    {
      "cell_type": "markdown",
      "source": [
        "# Yashi Game"
      ],
      "metadata": {
        "id": "qHWPC3qNVW9P"
      }
    },
    {
      "cell_type": "markdown",
      "source": [
        "## Importing relevant libraries"
      ],
      "metadata": {
        "id": "Tgrfv8ntXbDx"
      }
    },
    {
      "cell_type": "code",
      "execution_count": null,
      "metadata": {
        "colab": {
          "base_uri": "https://localhost:8080/"
        },
        "id": "BCvD3babVNw6",
        "outputId": "2016c132-474c-4457-88b5-df757199da82"
      },
      "outputs": [
        {
          "output_type": "stream",
          "name": "stdout",
          "text": [
            "Collecting python-sat\n",
            "  Downloading python_sat-0.1.8.dev9-cp310-cp310-manylinux_2_12_x86_64.manylinux2010_x86_64.whl (2.2 MB)\n",
            "\u001b[2K     \u001b[90m━━━━━━━━━━━━━━━━━━━━━━━━━━━━━━━━━━━━━━━━\u001b[0m \u001b[32m2.2/2.2 MB\u001b[0m \u001b[31m20.0 MB/s\u001b[0m eta \u001b[36m0:00:00\u001b[0m\n",
            "\u001b[?25hRequirement already satisfied: six in /usr/local/lib/python3.10/dist-packages (from python-sat) (1.16.0)\n",
            "Installing collected packages: python-sat\n",
            "Successfully installed python-sat-0.1.8.dev9\n"
          ]
        }
      ],
      "source": [
        "!pip install python-sat\n",
        "from pysat.solvers import Minisat22\n",
        "import itertools"
      ]
    },
    {
      "cell_type": "markdown",
      "source": [
        "## Defining useful methods"
      ],
      "metadata": {
        "id": "9pYkl6YqXimL"
      }
    },
    {
      "cell_type": "code",
      "source": [
        "def pos_to_clause(n,i,j):\n",
        "  return n*i+j+1\n",
        "def edge_to_clause(n,i,j,k,l):\n",
        "  return (n**2)+1+i*(n**3)+j*(n**2)+k*n+l\n",
        "def path_to_clause(n,p,path):\n",
        "  out=n**2+n**4+1\n",
        "  for i in range(len(path)):\n",
        "    out+=(path[i]+1)*((p+1)**i)\n",
        "  return out\n",
        "def find_all_paths(p):\n",
        "    return [list(itertools.permutations(range(p), i)) for i in range(2,p+1)]"
      ],
      "metadata": {
        "id": "qqbYYpNDXmgM"
      },
      "execution_count": null,
      "outputs": []
    },
    {
      "cell_type": "markdown",
      "source": [
        "# Input"
      ],
      "metadata": {
        "id": "tsnGYZqdX8mB"
      }
    },
    {
      "cell_type": "code",
      "source": [
        "n = 5\n",
        "#Example 1: n=4 , points=[(0,1),(0,3),(1,0),(1,2),(1,3),(3,1),(3,3)]\n",
        "#Example 2: n=5, points=[(0,0),(0,2),(0,4),(2,2),(4,0),(4,2),(4,4)]\n",
        "points = [(0,0),(0,2),(0,4),(2,2),(4,0),(4,2),(4,4)]\n",
        "p=len(points)\n",
        "Yashi=Minisat22()"
      ],
      "metadata": {
        "id": "kB1qnWIsYBVx"
      },
      "execution_count": null,
      "outputs": []
    },
    {
      "cell_type": "markdown",
      "source": [
        "# Clauses implementation"
      ],
      "metadata": {
        "id": "C5_6HmCLXnGx"
      }
    },
    {
      "cell_type": "code",
      "source": [
        "#Vertices\n",
        "for i in range(n):\n",
        "  for j in range(n):\n",
        "    if (i,j) in points:\n",
        "      Yashi.add_clause([pos_to_clause(n,i,j)])\n",
        "    else:\n",
        "      Yashi.add_clause([-pos_to_clause(n,i,j)])\n",
        "#Total n^2\n",
        "\n",
        "#Undirected graph+no self loop+only vertex have edge+only hor/vert segment rule+no intersections:\n",
        "for i in range(n):\n",
        "  for j in range(n):\n",
        "    for k in range(n):\n",
        "      for l in range(n):\n",
        "        #Undirected:\n",
        "        Yashi.add_clause([edge_to_clause(n,i,j,k,l),-edge_to_clause(n,k,l,i,j)]) #+symmetry to do other clause.\n",
        "        #No self loop:\n",
        "        if i==k and j==l:\n",
        "          Yashi.add_clause([-edge_to_clause(n,i,j,k,l)])\n",
        "        #Only vertex have edge:\n",
        "        if ((i,j) not in points) or ((k,l) not in points):\n",
        "          Yashi.add_clause([-edge_to_clause(n,i,j,k,l)])\n",
        "        #only hor/vert segment rule\n",
        "        if i!=k and j!=l:\n",
        "          Yashi.add_clause([-edge_to_clause(n,i,j,k,l)])\n",
        "        #no intersection\n",
        "        #Horizontal segment:\n",
        "        if i==k and j<l:\n",
        "          #vertical intersection\n",
        "          for m in range(i):\n",
        "            for o in range(i+1,n):\n",
        "              for q in range(j+1,l):\n",
        "                Yashi.add_clause([-edge_to_clause(n,i,j,k,l), -edge_to_clause(n,m,q,o,q)])\n",
        "          #horizontal intersection\n",
        "          for m in range(l):\n",
        "            for o in range(max(j+1,m+1),n):\n",
        "              if j!=m or l!=o:\n",
        "                Yashi.add_clause([-edge_to_clause(n,i,j,k,l), -edge_to_clause(n,i,m,i,o)])\n",
        "        #Vertical segment:\n",
        "        if j==l and i<k:\n",
        "          #horiz intersection\n",
        "          for m in range(i+1,k):\n",
        "            for o in range(j):\n",
        "              for q in range(j+1,n):\n",
        "                Yashi.add_clause([-edge_to_clause(n,i,j,k,l), -edge_to_clause(n,m,o,m,q)])\n",
        "          #vert intersection\n",
        "          for m in range(k):\n",
        "            for o in range(max(i+1,m+1),n):\n",
        "              if i!=m or k!=o:\n",
        "                Yashi.add_clause([-edge_to_clause(n,i,j,k,l), -edge_to_clause(n,m,j,o,j)])\n",
        "\n",
        "#Total n^2+n^4\n",
        "\n",
        "#Graph is a tree:\n",
        "\n",
        "#Auxillary variables:\n",
        "All_paths=find_all_paths(p)\n",
        "for i in range(len(All_paths)):\n",
        "  for j in range(len(All_paths[i])):\n",
        "    C=[path_to_clause(n,p,All_paths[i][j])]\n",
        "    for k in range(len(All_paths[i][j])-1):\n",
        "      C.append(-edge_to_clause(n,points[All_paths[i][j][k]][0],points[All_paths[i][j][k]][1],points[All_paths[i][j][k+1]][0],points[All_paths[i][j][k+1]][1]))\n",
        "    Yashi.add_clause(C)\n",
        "    for k in range(len(All_paths[i][j])-1):\n",
        "        Yashi.add_clause([-path_to_clause(n,p,All_paths[i][j]),edge_to_clause(n,points[All_paths[i][j][k]][0],points[All_paths[i][j][k]][1],points[All_paths[i][j][k+1]][0],points[All_paths[i][j][k+1]][1])])\n",
        "\n",
        "#Exists a path from i to j\n",
        "for i in range(len(points)):\n",
        "  for j in range(len(points)):\n",
        "    if i!=j:\n",
        "      C=[]\n",
        "      for k in range(len(All_paths)):\n",
        "        for l in range(len(All_paths[k])):\n",
        "          if i==All_paths[k][l][0] and j==All_paths[k][l][len(All_paths[k][l])-1]:\n",
        "            C.append(path_to_clause(n,p,All_paths[k][l]))\n",
        "      Yashi.add_clause(C)\n",
        "\n",
        "#No cycles\n",
        "for i in range(len(points)):\n",
        "  C=[]\n",
        "  for j in range(len(All_paths)):\n",
        "    for k in range(len(All_paths[j])):\n",
        "      if i==All_paths[j][k][0] and len(All_paths[j][k])>2:\n",
        "        Yashi.add_clause([-path_to_clause(n,p,All_paths[j][k]),-edge_to_clause(n,points[All_paths[j][k][len(All_paths[j][k])-1]][0],points[All_paths[j][k][len(All_paths[j][k])-1]][1],points[i][0],points[i][1])])\n"
      ],
      "metadata": {
        "id": "-Wj8Zsj5bUwt"
      },
      "execution_count": null,
      "outputs": []
    },
    {
      "cell_type": "markdown",
      "source": [
        "#Solution"
      ],
      "metadata": {
        "id": "wFKEMuSDYCum"
      }
    },
    {
      "cell_type": "code",
      "source": [
        "#Print 1 solution\n",
        "print(Yashi.solve())\n",
        "for i in Yashi.get_model():\n",
        "  if i>n**2 and i<=n**2+n**4:\n",
        "    z=i-n**2-1\n",
        "    #print(z)\n",
        "    l=z%n\n",
        "    z=int((z-l)/n)\n",
        "    k=z%n\n",
        "    z=int((z-k)/n)\n",
        "    j=z%n\n",
        "    z=int((z-j)/n)\n",
        "    i=z\n",
        "    print(i,j,k,l)"
      ],
      "metadata": {
        "id": "1-XGR8z3JTR_",
        "colab": {
          "base_uri": "https://localhost:8080/"
        },
        "outputId": "aa92f0be-0f4d-49cf-dbc9-f3bb04ffd630"
      },
      "execution_count": null,
      "outputs": [
        {
          "output_type": "stream",
          "name": "stdout",
          "text": [
            "True\n",
            "0 1 0 3\n",
            "0 3 0 1\n",
            "0 3 1 3\n",
            "1 0 1 2\n",
            "1 2 1 0\n",
            "1 2 1 3\n",
            "1 3 0 3\n",
            "1 3 1 2\n",
            "1 3 3 3\n",
            "3 1 3 3\n",
            "3 3 1 3\n",
            "3 3 3 1\n"
          ]
        }
      ]
    },
    {
      "cell_type": "code",
      "source": [
        "#Print best solution\n",
        "best_total=-1\n",
        "while Yashi.solve():\n",
        "  C=[]\n",
        "  Y=Yashi.get_model()\n",
        "  total=0\n",
        "  for i in Y:\n",
        "    if i>n**2 and i<=n**2+n**4:\n",
        "      C.append(-i)\n",
        "      z=i-n**2-1\n",
        "      l=z%n\n",
        "      z=int((z-l)/n)\n",
        "      k=z%n\n",
        "      z=int((z-k)/n)\n",
        "      j=z%n\n",
        "      z=int((z-j)/n)\n",
        "      ii=int(z)\n",
        "      if ii==k:\n",
        "        total=total+max(j,l)-min(j,l)\n",
        "      else:\n",
        "        total=total+max(ii,k)-min(ii,k)\n",
        "    if i>n**2+n**4:\n",
        "      break\n",
        "  if best_total==-1 or total<best_total:\n",
        "    best_total=total\n",
        "    best_model=Y\n",
        "  Yashi.add_clause(C)\n",
        "for i in best_model:\n",
        "  if i>n**2 and i<=n**2+n**4:\n",
        "    z=i-n**2-1\n",
        "    l=z%n\n",
        "    z=int((z-l)/n)\n",
        "    k=z%n\n",
        "    z=int((z-k)/n)\n",
        "    j=z%n\n",
        "    z=int((z-j)/n)\n",
        "    i=z\n",
        "    print(i,j,k,l)"
      ],
      "metadata": {
        "id": "YkOoSzwArroX",
        "colab": {
          "base_uri": "https://localhost:8080/"
        },
        "outputId": "5a40ab6c-f85a-436c-bad1-092fd54ac5d1"
      },
      "execution_count": null,
      "outputs": [
        {
          "output_type": "stream",
          "name": "stdout",
          "text": [
            "0 1 0 3\n",
            "0 3 0 1\n",
            "0 3 1 3\n",
            "1 0 1 2\n",
            "1 2 1 0\n",
            "1 2 1 3\n",
            "1 3 0 3\n",
            "1 3 1 2\n",
            "1 3 3 3\n",
            "3 1 3 3\n",
            "3 3 1 3\n",
            "3 3 3 1\n"
          ]
        }
      ]
    },
    {
      "cell_type": "code",
      "source": [
        "print(best_total/2)"
      ],
      "metadata": {
        "id": "kp5tQnmrA3BJ",
        "colab": {
          "base_uri": "https://localhost:8080/"
        },
        "outputId": "97ed0e14-c322-4db6-ee01-33fd6c3f7980"
      },
      "execution_count": null,
      "outputs": [
        {
          "output_type": "stream",
          "name": "stdout",
          "text": [
            "10.0\n"
          ]
        }
      ]
    }
  ]
}